from keras.utils import to_categorical
from keras.preprocessing.image import load_img  # Corrected import path
from keras.models import Sequential
from keras.layers import Dense, Conv2D, Dropout, Flatten, MaxPooling2D  # Fixed typo in Conv2D
import os
import pandas as pd
import numpy as np


TRAIN_DIR = 'archive (2)/images/train'
TEST_DIR = 'archive (2)/images/test'


import os
import pandas as pd  # Import pandas

def create_dataframe(directory):
    image_paths = []
    labels = []
    
    for label in os.listdir(directory):  # Loop through category folders
        label_path = os.path.join(directory, label)
        
        if os.path.isdir(label_path):  # Ensure it's a folder, not a file
            for image_name in os.listdir(label_path):  # Loop through images
                image_paths.append(os.path.join(label_path, image_name))
                labels.append(label)
        
        print(label, "completed")  # Print label instead of labels
    
    return image_paths, labels  

# Call the function and store the results
image_paths, labels = create_dataframe(TRAIN_DIR)

# Create a DataFrame
train = pd.DataFrame({'image': image_paths, 'label': labels})


print(train)


import os
import pandas as pd  # Import pandas

def create_dataframe(directory):
    image_paths = []
    labels = []
    
    for label in os.listdir(directory):  # Loop through category folders
        label_path = os.path.join(directory, label)
        
        if os.path.isdir(label_path):  # Ensure it's a folder, not a file
            for image_name in os.listdir(label_path):  # Loop through images
                image_paths.append(os.path.join(label_path, image_name))
                labels.append(label)
        
        print(label, "completed")  # Print label instead of labels
    
    return image_paths, labels  

# Call the function and store the results
image_paths, labels = create_dataframe(TEST_DIR)

# Create a DataFrame
test = pd.DataFrame({'image': image_paths, 'label': labels})


print(test)


import numpy as np
from tqdm import tqdm
from keras.preprocessing.image import load_img

def extract_features(images):
    features = []
    for image in tqdm(images):
        img = load_img(image, color_mode="grayscale")  # ✅ Corrected grayscale argument
        img = np.array(img)
        features.append(img)
    
    features = np.array(features)
    features = features.reshape(len(features), features.shape[1], features.shape[2], 1)  # Ensure correct shape
    
    return features

# Convert Series to list and extract features
train_features = extract_features(train['image'].tolist())  # ✅ Ensure list format

test_features = extract_features(test['image'].tolist())

x_train=train_features/255.0
x_test=test_features/255.0

from sklearn.preprocessing import LabelEncoder


le=LabelEncoder()
le.fit(train['label'])


y_train=le.transform(train['label'])
y_test=le.transform(test['label'])


y_train=to_categorical(y_train,num_classes=7)
y_test=to_categorical(y_test,num_classes=7)

from keras.models import Sequential
from keras.layers import Conv2D, MaxPooling2D, Dropout, Flatten, Dense, Input

model = Sequential()
# input layer
model.add(Input(shape=(48, 48, 1)))

# convolutional layers
model.add(Conv2D(128, kernel_size=(3,3), activation='relu'))
model.add(MaxPooling2D(pool_size=(2,2)))
model.add(Dropout(0.4))

model.add(Conv2D(256, kernel_size=(3,3), activation='relu'))
model.add(MaxPooling2D(pool_size=(2,2)))
model.add(Dropout(0.4))

model.add(Conv2D(512, kernel_size=(3,3), activation='relu'))
model.add(MaxPooling2D(pool_size=(2,2)))
model.add(Dropout(0.4))

model.add(Conv2D(512, kernel_size=(3,3), activation='relu'))
model.add(MaxPooling2D(pool_size=(2,2)))
model.add(Dropout(0.4))

model.add(Flatten())
# fully connected layers
model.add(Dense(512, activation='relu'))
model.add(Dropout(0.4))
model.add(Dense(256, activation='relu'))
model.add(Dropout(0.3))

# output layer
model.add(Dense(7, activation='softmax'))



model.compile(optimizer='adam', loss='categorical_crossentropy', metrics=['accuracy'])


model.fit(x= x_train,y = y_train, batch_size = 128, epochs = 100, validation_data = (x_test,y_test)) 

from keras.models import model_from_json
import os

# Save the model
model_json = model.to_json()
with open("facialemotionmodel.json", "w") as json_file:
    json_file.write(model_json)
model.save_weights("facialemotionmodel.weights.h5")

print("Model saved successfully!\n")

# Verify file existence before loading
if os.path.exists("facialemotionmodel.json") and os.path.exists("facialemotionmodel.weights.h5"):
    with open("facialemotionmodel.json", "r") as json_file:
        model_json = json_file.read()
    
    model = model_from_json(model_json)
    model.load_weights("facialemotionmodel.weights.h5")

    print("Model loaded successfully!")
else:
    print("Error: Model files not found! Check the file path and names.")



label = ['angry','disgust','fear','happy','neutral','sad','surprise']


from tensorflow.keras.preprocessing.image import load_img
import numpy as np

# Define the label list (Make sure the labels are in the same order as your output neurons)
label = ['angry', 'disgust', 'fear', 'happy', 'neutral', 'sad', 'surprise']

# Preprocess image
def ef(image):
    img = load_img(image, color_mode='grayscale', target_size=(48, 48))  # Corrected argument
    feature = np.array(img)
    feature = feature.reshape(1, 48, 48, 1)  # Reshaping image for model input
    return feature / 255.0  # Normalizing image

# Image path
image = 'archive (2)/images/train/angry/27.jpg'
print("Original image is of 'sad'")

# Process and predict
img = ef(image)
pred = model.predict(img)
pred_label = label[pred.argmax()]  # Get the label with the highest prediction probability

print("Model prediction is:", pred_label)




import matplotlib.pyplot as plt
%matplotlib inline



image = 'archive (2)/images/train/sad/42.jpg'
print("original image is of sad")
img = ef(image)
pred = model.predict(img)
pred_label = label[pred.argmax()]
print("model prediction is ",pred_label)
plt.imshow(img.reshape(48,48),cmap='gray')











































